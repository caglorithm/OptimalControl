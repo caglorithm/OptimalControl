{
 "cells": [
  {
   "cell_type": "code",
   "execution_count": 2,
   "metadata": {},
   "outputs": [],
   "source": [
    "#!/usr/bin/env python\n",
    "\n",
    "import sys\n",
    "import os\n",
    "absFilePath = os.path.abspath('attractor_switching.py')\n",
    "fileDir = os.path.dirname(absFilePath)\n",
    "parentDir = os.path.dirname(fileDir)\n",
    "\n",
    "# change working directory to the project file of codes, use parentDir else\n",
    "sys.path.append(parentDir+'/src_and_example')\n",
    "\n",
    "import numpy as np\n",
    "import pickle\n",
    "import matplotlib.pyplot as plt\n",
    "import matplotlib as mpl\n",
    "from pylab import figure, cm\n",
    "import functions\n",
    "import random\n",
    "seed=50\n",
    "import cv2\n"
   ]
  },
  {
   "cell_type": "code",
   "execution_count": 13,
   "metadata": {},
   "outputs": [],
   "source": [
    "#read data and calculate controlled state\n",
    "\n",
    "goal='switch'\n",
    "bifurcation='low'\n",
    "\n",
    "\n",
    "filename=fileDir+'/data/data_figure_4_5'\n",
    "with open(filename, 'rb') as pickle_file:\n",
    "    data = pickle.load(pickle_file)\n",
    "node_ic=data['node_ic'][0] #take the entry [2] that corresponds to bifurcation low and switchfromto lowtohigh\n",
    "control=data['controls'][0]\n",
    "\n",
    "#Set dimensions\n",
    "T= 600 #simulation and control time \n",
    "dt=0.1 #time stepsize\n",
    "tsteps=int(T/dt) #number of timesteps\n",
    "N=94\n",
    "d=2 #dimension of each FitzHugh-Nagumo node\n",
    "no_control=np.zeros((tsteps,N))\n",
    "#make dictionary with all parameters\n",
    "args = {\n",
    "    'tsteps':tsteps,\n",
    "    'dt':dt,\n",
    "    'd':d,\n",
    "    'noise':0,\n",
    "    'node_ic':node_ic\n",
    "    }\n",
    "\n",
    "parameters = functions.set_parameters(goal,bifurcation,parentDir)\n",
    "\n",
    "args.update(parameters)\n",
    "\n",
    "#calculate the states\n",
    "state_controlled=functions.plot_runge_kutta(functions.ODE_FHN_network,control, **args)\n",
    "\n",
    "#single uncoupled oscillator\n",
    "Adj=args['A']\n",
    "args['A']=np.zeros((args['N'],args['N']))\n",
    "state_uncoup=functions.plot_runge_kutta(functions.ODE_FHN_network,no_control, **args)\n",
    "state_uncoup=state_uncoup[:,:,0]\n",
    "args['A']=Adj"
   ]
  },
  {
   "cell_type": "code",
   "execution_count": 17,
   "metadata": {},
   "outputs": [
    {
     "data": {
      "text/plain": [
       "0.2710266002794216"
      ]
     },
     "execution_count": 17,
     "metadata": {},
     "output_type": "execute_result"
    }
   ],
   "source": [
    "np.min(state_controlled[:,1,:])"
   ]
  },
  {
   "cell_type": "code",
   "execution_count": 18,
   "metadata": {},
   "outputs": [],
   "source": [
    "fs=30\n",
    "N=94\n",
    "degree=np.sum(args['A'],axis=0)\n",
    "coloring=degree\n",
    "indices=np.arange(0,6000,3)\n",
    "cmap='coolwarm'\n",
    "for i in indices:\n",
    "    fig, (ax1) = plt.subplots(nrows=1, ncols=1, figsize=(11,7))\n",
    "\n",
    "    V=np.dstack((control[i],np.zeros(N))).reshape(N,2)*200\n",
    "    origin=state_controlled[i,:,:]\n",
    "\n",
    "    ax1.plot(state_uncoup[5000:,0],state_uncoup[5000:,1],color='lightgray',zorder=0)\n",
    "    Z=ax1.quiver(*origin, V[:,0], V[:,1], scale=1,color='black',zorder=6)\n",
    "    cax=ax1.scatter(state_controlled[i,0,:],state_controlled[i,1,:],marker='o',c=coloring,s=200,cmap=cmap,zorder=10)\n",
    "    ax1.quiverkey(Z, 0.8, 0.94, .1, label=\"$\\overline{u} \\cdot 200$\", labelpos='E',\n",
    "                  fontproperties={'size': fs-7}, labelcolor='black')\n",
    "\n",
    "    ax1.set_xlabel('$x_1$',size=fs)\n",
    "    ax1.set_ylabel('$x_2$',size=fs)\n",
    "    ax1.set_xlim(-0.35,1.25)\n",
    "    ax1.set_ylim(.24,95)\n",
    "    ax1.tick_params(labelsize=fs)\n",
    "    ax1.grid(True)\n",
    "    ax1.margins(0) # remove default margins (matplotlib verision 2+)\n",
    "\n",
    "    cbar=fig.colorbar(cax)\n",
    "    cbar.set_label('weighted degree $d$',size=fs)\n",
    "    cbar.ax.tick_params(labelsize=fs)\n",
    "\n",
    "    if i<5000 and i>1000:\n",
    "        ax1.set_title('control on \\n t='+str(round(i*dt,2))+' timeunits ', y=-.28,x=1,fontsize=fs-4,color='red')\n",
    "    else:\n",
    "        ax1.set_title('control off \\n t='+str(round(i*dt,2))+' timeunits ', y=-.28,x=1,fontsize=fs-4,color='black')\n",
    "    \n",
    "    fig.tight_layout()\n",
    "    plt.subplots_adjust(right=1,top=1)\n",
    "    #plt.show()\n",
    "    plt.savefig(fileDir+\"/videos/vid_fig/_\"+str(i)+'.png', bbox_inches='tight')\n",
    "    plt.close()"
   ]
  },
  {
   "cell_type": "code",
   "execution_count": 19,
   "metadata": {},
   "outputs": [],
   "source": [
    "pathOut = fileDir+\"/videos/video_fig4a.avi\"\n",
    "fps = 50\n",
    "\n",
    "frame_array=[]\n",
    "for i in indices:\n",
    "    filename=fileDir+\"/videos/vid_fig/_\"+str(i)+'.png'\n",
    "    #reading each files\n",
    "    img = cv2.imread(filename)\n",
    "    height, width, layers = img.shape\n",
    "    size = (width,height)\n",
    "    \n",
    "    #inserting the frames into an image array\n",
    "    frame_array.append(img)\n",
    "out = cv2.VideoWriter(pathOut,cv2.VideoWriter_fourcc(*'DIVX'), fps, size)\n",
    "    \n",
    "for i in range(len(frame_array)):\n",
    "    # writing to a image array\n",
    "    out.write(frame_array[i])\n",
    "out.release()"
   ]
  },
  {
   "cell_type": "code",
   "execution_count": null,
   "metadata": {},
   "outputs": [],
   "source": []
  }
 ],
 "metadata": {
  "kernelspec": {
   "display_name": "Python 3",
   "language": "python",
   "name": "python3"
  },
  "language_info": {
   "codemirror_mode": {
    "name": "ipython",
    "version": 3
   },
   "file_extension": ".py",
   "mimetype": "text/x-python",
   "name": "python",
   "nbconvert_exporter": "python",
   "pygments_lexer": "ipython3",
   "version": "3.6.5"
  }
 },
 "nbformat": 4,
 "nbformat_minor": 2
}
